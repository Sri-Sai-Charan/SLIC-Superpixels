{
  "cells": [
    {
      "attachments": {},
      "cell_type": "markdown",
      "metadata": {
        "id": "4T7DI5sBT2hc"
      },
      "source": [
        "Author: Sri Sai Charan Velisetti"
      ]
    },
    {
      "cell_type": "code",
      "execution_count": 1,
      "metadata": {
        "id": "fMVszVsJSWCC"
      },
      "outputs": [],
      "source": [
        "## Import necessary libraries here (You can add libraries you want to use here)\n",
        "from skimage.util import img_as_float\n",
        "from skimage import io, color\n",
        "from skimage import draw\n",
        "import matplotlib.pyplot as plt\n",
        "import argparse, time\n",
        "import math, copy\n",
        "import numpy as np\n",
        "import scipy.io\n",
        "import cv2\n",
        "from sklearn import mixture\n",
        "from PIL import Image, ImageDraw\n",
        "from google.colab.patches import cv2_imshow\n",
        "import os\n",
        "import timeit\n"
      ]
    },
    {
      "cell_type": "code",
      "execution_count": 2,
      "metadata": {
        "id": "-gqTCbLkag9B"
      },
      "outputs": [],
      "source": [
        "def show_image(img, scale=1.0):\n",
        "    plt.figure(figsize=scale* plt.figaspect(1))\n",
        "    plt.imshow(img, interpolation='nearest')\n",
        "    plt.gray() \n",
        "    plt.axis('off')\n",
        "    plt.show()\n",
        "\n"
      ]
    },
    {
      "attachments": {},
      "cell_type": "markdown",
      "metadata": {
        "id": "H2o_cqYRJYvh"
      },
      "source": [
        "# SLIC Superpixels"
      ]
    },
    {
      "attachments": {},
      "cell_type": "markdown",
      "metadata": {
        "id": "P7srjRyqJjgW"
      },
      "source": [
        "## Overview\n",
        "\n",
        "Superpixel algorithms group pixels into perceptually meaningful regions while respecting potential object contours, and thereby can replace the rigid pixel grid structure. Due to the reduced complexity, superpixels are becoming popular for various computer vision applications, e.g., multiclass object segmentation, depth estimation, human pose estimation, and object localization.\n",
        "\n",
        "In this problem, you will implement a simple superpixel algorithm called Simple Linear Iterative Clustering (SLIC) that clusters pixels in the five-dimensional color and pixel coordinate space (e.g., r, g, b, x, y). The algorithm starts with a collection of K cluster centers initialized at an equally sampled regular grid on the image of N pixels. For each cluster, you define for a localized window 2S x 2S centered at the cluster center, where S = sqrt(N/K) is the roughly the space between the seed cluster centers. Then, you check whether the pixel within the 2S x 2S local window should be assigned to the cluster center or not (by comparing the distance in 5D space to the cluster center). Once you loop through all the clusters, you can update the cluster center by averaging over the cluster members. Iterate the pixel-to-cluster assignment process till convergence or maximum iterations reached.\n",
        "\n",
        "Reference Paper: http://www.kev-smith.com/papers/SMITH_TPAMI12.pdf\n",
        "\n",
        "refer to the following slide covered in Lecture_17_Segmentation.pptx here: https://drive.google.com/file/d/1bRmNBXgK1_kWcY-nhw_As5fP10aRhuDC/view?usp=share_link\n",
        "\n",
        "\n",
        "\n",
        "\n"
      ]
    },
    {
      "cell_type": "markdown",
      "metadata": {
        "id": "UpME_VkbLEAc"
      },
      "source": [
        "## Data\n",
        "**WARNING: Colab deletes all files everytime runtime is disconnected. Make sure to re-download the inputs when it happens.**"
      ]
    },
    {
      "cell_type": "code",
      "execution_count": null,
      "metadata": {
        "id": "Vva9KDmrLLLk"
      },
      "outputs": [],
      "source": [
        "# Download Data -- run this cell only one time per runtime\n",
        "!gdown 1jbg2VMZ9yAJMHQNRCTgqZM1PyQRtcPyV\n",
        "!unzip \"/content/Part1_SLIC.zip\" -d \"/content/\""
      ]
    },
    {
      "cell_type": "markdown",
      "metadata": {
        "id": "bRGHHL1lLcWx"
      },
      "source": [
        "## Helper Functions:"
      ]
    },
    {
      "attachments": {},
      "cell_type": "markdown",
      "metadata": {
        "id": "EFnvOOmOd4ye"
      },
      "source": [
        "### Code "
      ]
    },
    {
      "cell_type": "code",
      "execution_count": 4,
      "metadata": {
        "id": "OSa4YF8WgfPf"
      },
      "outputs": [],
      "source": [
        "# A class to initialize the super pixels, of the form - [l,a,b,h,w].\n",
        "class SuperPixel(object):\n",
        "\n",
        "    def __init__(self, l=0, a=0, b=0, h=0, w=0):\n",
        "        self.update(l, a, b, h, w)\n",
        "        self.pixels = []\n",
        "\n",
        "    def update(self, l, a, b, h, w):\n",
        "        self.l = l\n",
        "        self.a = a\n",
        "        self.b = b\n",
        "        self.h = h\n",
        "        self.w = w\n",
        "\n",
        "# Function which returns an object of class SuperPixel\n",
        "def make_SuperPixel(h, w,img):\n",
        "    return SuperPixel(img[h,w][0],img[h,w][1],img[h,w][2], h, w)\n",
        "\n",
        "def display_clusters(img, clusters):\n",
        "    image = np.copy(img)\n",
        "    for c in clusters:\n",
        "        for p in c.pixels:\n",
        "            image[p[0],p[1]][0] = c.l\n",
        "            image[p[0],p[1]][1] = c.a\n",
        "            image[p[0],p[1]][2] = c.b\n",
        "        image[c.h, c.w][0] = 0\n",
        "        image[c.h, c.w][1] = 0\n",
        "        image[c.h, c.w][2] = 0\n",
        "    rgb_arr = color.lab2rgb(image) \n",
        "    show_image(rgb_arr)"
      ]
    },
    {
      "cell_type": "code",
      "execution_count": 5,
      "metadata": {
        "id": "y9DUNTwkgrMP"
      },
      "outputs": [],
      "source": [
        "def initialize_cluster_centers(S, image, img_h, img_w, clusters):\n",
        "    #### Write your code here ####\n",
        "    # To Do: Initialize \"clusters\" by sampling pixels at an equally sampled regular grid (distanced by S)\n",
        "    # on the image of N pixels. N = img_h X img_w. Hint: clusters.append(make_superPixel(h, w, image)) to create each cluster/super-pixel.\n",
        "    for h in range(int(S/2),img_h,S):\n",
        "      for w in range(int(S/2),img_w,S):\n",
        "        clusters.append(make_SuperPixel(h,w,image))\n",
        "    return clusters\n",
        "\n",
        "def get_gradient(h, w,image):\n",
        "    if w + 1 >= image.shape[1]:\n",
        "        w = image.shape[1] - 2\n",
        "    if h + 1 >= image.shape[0]:\n",
        "        h = image.shape[0] - 2\n",
        "    gradientx = np.sqrt((image[h][w+1][0] - image[h][w-1][0])**2 + (image[h][w+1][1] - image[h][w-1][1])**2 + (image[h][w+1][2] - image[h][w-1][2])**2)\n",
        "    gradienty = np.sqrt((image[h+1][w][0] - image[h-1][w][0])**2 + (image[h+1][w][1] - image[h-1][w][1])**2 + (image[h+1][w][2] - image[h-1][w][2])**2)\n",
        "    gradient = gradientx + gradienty\n",
        "    return gradient\n",
        "\n",
        "def relocate_cluster_center_at_lowgrad(clusters, image):\n",
        "    #### Write your code here ####\n",
        "    # To Do:\n",
        "    # for each cluster c, reassign cluster to the pixel having smallest gradient value.\n",
        "    # Step 1: compute gradient wrt cluster-center c.h, c.w in 3X3 neighborhood of cluster center.\n",
        "    # Step 2: Similarly, compute gradient for each pixel in 3X3 spatial neighborhood of cluster c.\n",
        "    # Step 3. Reassign cluster-center to the pixel (x,y) having the lowest gradient. \n",
        "    # Hint: c.update(img[x,y][0], img[h,w][1], img[x,y][2], x, y)\n",
        "    # print(image.shape)\n",
        "    for c in clusters:\n",
        "      gradient = get_gradient(c.h,c.w,image)\n",
        "      for h in range(-1, 2):\n",
        "          for w in range(-1, 2):\n",
        "              x = c.h + h\n",
        "              y = c.w + w\n",
        "              new_gradient = get_gradient(x, y,image)\n",
        "              if new_gradient < gradient:\n",
        "                  c.update(image[x][y][0], image[x][y][1], image[x][y][2],x,y)\n",
        "                  gradient = new_gradient\n",
        "\n",
        "    return None"
      ]
    },
    {
      "cell_type": "code",
      "execution_count": 6,
      "metadata": {
        "id": "a3U_8h_fhj7F"
      },
      "outputs": [],
      "source": [
        "def assign_cluster(clusters, S, image, img_h, img_w, cluster_tag, dis,M):\n",
        "    #### Write your code here ####\n",
        "    # To Do: Compare each pixel to cluster center within 2S pixel distance and assign to nearest cluster using the \"distance metric\"\n",
        "    # (involving both color and spatial dimensions of pixel and cluster, \n",
        "    # Hints: \n",
        "    # 1. use \"dis\" matrix for comparing distances.\n",
        "    # 2. You can use c.pixels.append((h, w)) to keep track of cluster-assignments.\n",
        "    # iter_list = itertools.product(range(0,img_h),range(0,img_w),clusters)\n",
        "    # for h,w,c in itertools.product(range(0,img_h),range(0,img_w),clusters):\n",
        "    for c in clusters:\n",
        "      for h in range(c.h - 2 * S, c.h + 2 * S):\n",
        "          if h < 0 or h >= img_h: continue\n",
        "          for w in range(c.w - 2 * S, c.w + 2 * S):\n",
        "              if w < 0 or w >= img_w: continue\n",
        "              l, a, b = image[h,w]\n",
        "              Dc = np.sqrt((l - c.l)**2 + (a - c.a)**2 + (b - c.b)**2)\n",
        "              Ds = np.sqrt((h - c.h)**2 + (w - c.w)**2)\n",
        "              D = np.sqrt((Dc / M)**2 + (Ds /S)**2)\n",
        "              if D < dis[h,w]:\n",
        "                  if (h, w) not in cluster_tag:\n",
        "                      cluster_tag[(h, w)] = c\n",
        "                      c.pixels.append((h, w))\n",
        "                  else:\n",
        "                      cluster_tag[(h, w)].pixels.remove((h, w))\n",
        "                      cluster_tag[(h, w)] = c\n",
        "                      c.pixels.append((h, w))\n",
        "                  dis[h, w] = D\n",
        "\n",
        "            \n",
        "    return None"
      ]
    },
    {
      "cell_type": "code",
      "execution_count": 7,
      "metadata": {
        "id": "NX63rPd8itIr"
      },
      "outputs": [],
      "source": [
        "def update_clusters(clusters,image):\n",
        "    # To Do: For each cluster, update the cluster center with mean of the pixels assigned (c.pixels)\n",
        "    # for cluster in clusters:\n",
        "    for c in clusters:\n",
        "      sum_h,sum_w = 0,0\n",
        "      for pixel in c.pixels:\n",
        "        sum_h += pixel[0]\n",
        "        sum_w += pixel[1]\n",
        "      mean_h = sum_h // len(c.pixels)\n",
        "      mean_w = sum_w // len(c.pixels)\n",
        "      c.update(image[mean_h, mean_w][0],image[mean_h, mean_w][1],image[mean_h, mean_w][2], mean_h, mean_w)\n",
        "    return None"
      ]
    },
    {
      "cell_type": "code",
      "execution_count": 8,
      "metadata": {
        "id": "RZ3E4VLNixsf"
      },
      "outputs": [],
      "source": [
        "def compute_res_error(old_clusters, new_clusters):\n",
        "    error = 0.0\n",
        "    # error = Compute L1 distance between previous cluster-centres and new cluster centers.\n",
        "    for new_c,old_c in zip(new_clusters,old_clusters):\n",
        "        error_lab = np.abs(new_c.l - old_c.l) + np.abs(new_c.a - old_c.a) + np.abs(new_c.b - old_c.b)\n",
        "        error_hw = np.abs(new_c.h - old_c.h) + np.abs(new_c.w - old_c.w)\n",
        "        error += error_lab + error_hw\n",
        "    return error"
      ]
    },
    {
      "cell_type": "code",
      "execution_count": 9,
      "metadata": {
        "id": "ZTKsxNJIdy4_"
      },
      "outputs": [],
      "source": [
        "def slic_algorithm(S, image, img_h, img_w, clusters, cluster_tag, dis,M):\n",
        "\n",
        "    # Initialize cluster centers on pixel grid in steps S\n",
        "    clusters = initialize_cluster_centers(S, image, img_h, img_w, clusters)\n",
        "\n",
        "    # Move centers to position in 3x3 window with smallest gradient.\n",
        "    relocate_cluster_center_at_lowgrad(clusters, image)\n",
        "\n",
        "    # You can play around with these hyper-params.\n",
        "    res_err = 123456789.0 # init residual_error with a very large value (choose as per your understanding.)\n",
        "    threshold = 0.01 # tune this\n",
        "\n",
        "    while(res_err >= threshold):\n",
        "\n",
        "      assign_cluster(clusters, S, image, img_h, img_w, cluster_tag, dis, M)\n",
        "      old_clusters = copy.deepcopy(clusters)\n",
        "      update_clusters(clusters,image)\n",
        "\n",
        "      res_err = compute_res_error(old_clusters, clusters)\n",
        "      if res_err<threshold:\n",
        "        break\n",
        "    \n",
        "    return clusters    \n"
      ]
    },
    {
      "cell_type": "code",
      "execution_count": 10,
      "metadata": {
        "colab": {
          "base_uri": "https://localhost:8080/",
          "height": 0
        },
        "id": "6-nHiGIttAxv",
        "outputId": "f5d3f6ce-2b92-444c-ad9e-76277e9665b1"
      },
      "outputs": [
        {
          "name": "stdout",
          "output_type": "stream",
          "text": [
            "time: 5min 58s (started: 2022-11-24 03:22:17 +00:00)\n"
          ]
        }
      ],
      "source": [
        "# Main Block:\n",
        "\n",
        "img_path = \"/content/Part1_SLIC/BSD_data/images/10081.jpg\"\n",
        "\n",
        "# Load image and convert it from an unsigned 8-bit integer to a floating point data type.\n",
        "image = img_as_float(io.imread(img_path))\n",
        "\n",
        "# convert RGB to LAB\n",
        "image = color.rgb2lab(image)\n",
        "img_h = image.shape[0] #  Height\n",
        "img_w = image.shape[1] #  Width\n",
        "\n",
        "# k: Number of clusters/superpixels.\n",
        "k = 1024\n",
        "N = img_h * img_w  # Total pixels in the image\n",
        "S = int(math.sqrt(N /k)) # Average size of each superpixel\n",
        "M = 2\n",
        "clusters = []\n",
        "cluster_tag = {} # cluster_tag should contain cluster-assignment for pixel h,w. For example, cluster_tag[(h, w)] = c\n",
        "dis = np.full((img_h, img_w), np.inf) # Distance bwteen pixels and cluster is initialized as infinity at the beginning.\n",
        "\n",
        "clusters = slic_algorithm(S, image, img_h, img_w, clusters, cluster_tag, dis,M)\n"
      ]
    },
    {
      "cell_type": "code",
      "execution_count": 11,
      "metadata": {
        "colab": {
          "base_uri": "https://localhost:8080/",
          "height": 215
        },
        "id": "4kPdHh5HxU0F",
        "outputId": "30dfd226-5ab2-4fb2-e39b-49fc6c9b74af"
      },
      "outputs": [
        {
          "data": {
            "image/png": "[encoded data removed]",
            "text/plain": [
              "<Figure size 288x288 with 1 Axes>"
            ]
          },
          "metadata": {
            "needs_background": "light"
          },
          "output_type": "display_data"
        },
        {
          "name": "stdout",
          "output_type": "stream",
          "text": [
            "k : 1024  M : 2 \n",
            "time: 308 ms (started: 2022-11-24 03:28:16 +00:00)\n"
          ]
        }
      ],
      "source": [
        "display_clusters(image, clusters)\n",
        "print(\"k : 1024\", \" M : 2 \")"
      ]
    },
    {
      "cell_type": "code",
      "execution_count": 12,
      "metadata": {
        "colab": {
          "base_uri": "https://localhost:8080/",
          "height": 0
        },
        "id": "z19E-gcEp7DW",
        "outputId": "5f091ced-a102-469a-cf1d-3fae3cb3c5b0"
      },
      "outputs": [
        {
          "name": "stdout",
          "output_type": "stream",
          "text": [
            "time: 3min 44s (started: 2022-11-24 03:28:16 +00:00)\n"
          ]
        }
      ],
      "source": [
        "img_path = \"/content/Part1_SLIC/BSD_data/images/10081.jpg\"\n",
        "\n",
        "# Load image and convert it from an unsigned 8-bit integer to a floating point data type.\n",
        "image = img_as_float(io.imread(img_path))\n",
        "\n",
        "# convert RGB to LAB\n",
        "image = color.rgb2lab(image)\n",
        "img_h = image.shape[0] #  Height\n",
        "img_w = image.shape[1] #  Width\n",
        "\n",
        "# k: Number of clusters/superpixels.\n",
        "k = 256\n",
        "N = img_h * img_w  # Total pixels in the image\n",
        "S = int(math.sqrt(N /k)) # Average size of each superpixel\n",
        "M = 10 #Compactness of the cluster pixel\n",
        "clusters = []\n",
        "cluster_tag = {} # cluster_tag should contain cluster-assignment for pixel h,w. For example, cluster_tag[(h, w)] = c\n",
        "dis = np.full((img_h, img_w), np.inf) # Distance bwteen pixels and cluster is initialized as infinity at the beginning.\n",
        "\n",
        "clusters = slic_algorithm(S, image, img_h, img_w, clusters, cluster_tag, dis,M)"
      ]
    },
    {
      "cell_type": "code",
      "execution_count": 13,
      "metadata": {
        "colab": {
          "base_uri": "https://localhost:8080/",
          "height": 215
        },
        "id": "mdcgUhVHrqpy",
        "outputId": "7cd8301d-af08-42c2-ad4a-902bad6fba20"
      },
      "outputs": [
        {
          "data": {
            "image/png": "[encoded data removed]",
            "text/plain": [
              "<Figure size 288x288 with 1 Axes>"
            ]
          },
          "metadata": {
            "needs_background": "light"
          },
          "output_type": "display_data"
        },
        {
          "name": "stdout",
          "output_type": "stream",
          "text": [
            "k : 1024  M : 10 \n",
            "time: 330 ms (started: 2022-11-24 03:32:00 +00:00)\n"
          ]
        }
      ],
      "source": [
        "display_clusters(image, clusters)\n",
        "print(\"k : 1024\", \" M : 10 \")"
      ]
    },
    {
      "cell_type": "code",
      "execution_count": 29,
      "metadata": {
        "colab": {
          "base_uri": "https://localhost:8080/",
          "height": 0
        },
        "id": "u2A156D4sjNO",
        "outputId": "bdd3f3dd-b93e-4cc3-bb35-b0720daf9756"
      },
      "outputs": [
        {
          "name": "stdout",
          "output_type": "stream",
          "text": [
            "time: 3min 20s (started: 2022-11-24 04:00:13 +00:00)\n"
          ]
        }
      ],
      "source": [
        "img_path = \"/content/Part1_SLIC/BSD_data/images/10081.jpg\"\n",
        "\n",
        "# Load image and convert it from an unsigned 8-bit integer to a floating point data type.\n",
        "image = img_as_float(io.imread(img_path))\n",
        "\n",
        "# convert RGB to LAB\n",
        "image = color.rgb2lab(image)\n",
        "img_h = image.shape[0] #  Height\n",
        "img_w = image.shape[1] #  Width\n",
        "\n",
        "# k: Number of clusters/superpixels.\n",
        "k = 64\n",
        "N = img_h * img_w  # Total pixels in the image\n",
        "S = int(math.sqrt(N /k)) # Average size of each superpixel\n",
        "M = 40 #Compactness of the cluster pixel\n",
        "clusters = []\n",
        "cluster_tag = {} # cluster_tag should contain cluster-assignment for pixel h,w. For example, cluster_tag[(h, w)] = c\n",
        "dis = np.full((img_h, img_w), np.inf) # Distance bwteen pixels and cluster is initialized as infinity at the beginning.\n",
        "\n",
        "clusters = slic_algorithm(S, image, img_h, img_w, clusters, cluster_tag, dis,M)"
      ]
    },
    {
      "cell_type": "code",
      "execution_count": 30,
      "metadata": {
        "colab": {
          "base_uri": "https://localhost:8080/",
          "height": 215
        },
        "id": "LFwhQiJGsnaK",
        "outputId": "0b88175b-89ee-412b-b57c-b7c6d07c4bfc"
      },
      "outputs": [
        {
          "data": {
            "image/png": "[encoded data removed]",
            "text/plain": [
              "<Figure size 288x288 with 1 Axes>"
            ]
          },
          "metadata": {
            "needs_background": "light"
          },
          "output_type": "display_data"
        },
        {
          "name": "stdout",
          "output_type": "stream",
          "text": [
            "k : 1024  M : 40 \n",
            "time: 302 ms (started: 2022-11-24 04:03:33 +00:00)\n"
          ]
        }
      ],
      "source": [
        "display_clusters(image, clusters)\n",
        "print(\"k : 1024\", \" M : 40 \")"
      ]
    },
    {
      "cell_type": "code",
      "execution_count": 10,
      "metadata": {
        "colab": {
          "base_uri": "https://localhost:8080/",
          "height": 0
        },
        "id": "N3GhFsmnxic4",
        "outputId": "fd151211-e0b6-4daa-814c-b1e171d2e02d"
      },
      "outputs": [
        {
          "name": "stdout",
          "output_type": "stream",
          "text": [
            "Avg Run-time of image  49024.jpg  hyperparameter K: 64,256,1024 : runtime :  93 seconds\n",
            "\n",
            "Avg Run-time of image  10081.jpg  hyperparameter K: 64,256,1024 : runtime :  110 seconds\n",
            "\n",
            "Avg Run-time of image  14085.jpg  hyperparameter K: 64,256,1024 : runtime :  99 seconds\n",
            "\n",
            "Avg Run-time of image  14092.jpg  hyperparameter K: 64,256,1024 : runtime :  150 seconds\n",
            "\n",
            "Avg Run-time of image  2018.jpg  hyperparameter K: 64,256,1024 : runtime :  135 seconds\n",
            "\n",
            "Avg Run-time of image  23050.jpg  hyperparameter K: 64,256,1024 : runtime :  127 seconds\n",
            "\n",
            "Avg Run-time of image  28083.jpg  hyperparameter K: 64,256,1024 : runtime :  96 seconds\n",
            "\n",
            "Avg Run-time of image  3063.jpg  hyperparameter K: 64,256,1024 : runtime :  86 seconds\n",
            "\n",
            "Avg Run-time of image  5096.jpg  hyperparameter K: 64,256,1024 : runtime :  118 seconds\n",
            "\n",
            "Avg Run-time of image  70011.jpg  hyperparameter K: 64,256,1024 : runtime :  108 seconds\n",
            "\n"
          ]
        }
      ],
      "source": [
        "images_list = os.listdir(\"/content/Part1_SLIC/BSD_data/images\")\n",
        "for im in images_list[:10]:\n",
        "  run_time_list = []\n",
        "  for k in (64,256,1024):\n",
        "    img_path = \"/content/Part1_SLIC/BSD_data/images/\" + im\n",
        "\n",
        "    image = img_as_float(io.imread(img_path))\n",
        "    image = color.rgb2lab(image)\n",
        "    img_h = image.shape[0] #  Height\n",
        "    img_w = image.shape[1] #  Width\n",
        "    N = img_h * img_w  # Total pixels in the image\n",
        "    S = int(math.sqrt(N /k)) # Average size of each superpixel\n",
        "\n",
        "    clusters = []\n",
        "    cluster_tag = {} # cluster_tag should contain cluster-assignment for pixel h,w. For example, cluster_tag[(h, w)] = c\n",
        "    dis = np.full((img_h, img_w), np.inf) # Distance bwteen pixels and cluster is initialized as infinity at the beginning.\n",
        "    start = timeit.default_timer()\n",
        "    clusters1 = slic_algorithm(S, image, img_h, img_w, clusters, cluster_tag, dis,M=15)\n",
        "    stop = timeit.default_timer()\n",
        "    run_time = stop - start\n",
        "    # print(\"Run time for image :  \",im,\"hyperparameter K: \",k,\" : runtime : \",run_time,\" seconds\")\n",
        "    run_time_list.append(run_time)\n",
        "  avg_runtime = np.mean(run_time_list)\n",
        "  print(\"Avg Run-time of image \",im,\" hyperparameter K: 64,256,1024 : runtime : \",avg_runtime,\"seconds\\n\")"
      ]
    }
  ],
  "metadata": {
    "colab": {
      "provenance": []
    },
    "kernelspec": {
      "display_name": "Python 3",
      "name": "python3"
    },
    "language_info": {
      "name": "python"
    }
  },
  "nbformat": 4,
  "nbformat_minor": 0
}
